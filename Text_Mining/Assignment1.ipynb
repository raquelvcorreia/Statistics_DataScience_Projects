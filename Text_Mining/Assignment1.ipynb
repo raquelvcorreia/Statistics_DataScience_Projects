{
 "cells": [
  {
   "cell_type": "markdown",
   "metadata": {
    "deletable": false,
    "editable": false,
    "nbgrader": {
     "cell_type": "markdown",
     "checksum": "ec8ef6131742cfe7cbfc4f02a34ca107",
     "grade": false,
     "grade_id": "cell-8a754c8ce8a16eeb",
     "locked": true,
     "schema_version": 3,
     "solution": false,
     "task": false
    },
    "tags": []
   },
   "source": [
    "# Assignment 1\n",
    "\n",
    "In this assignment, you'll be working with messy medical data and using regex to extract relevant infromation from the data. \n",
    "\n",
    "Each line of the `dates.txt` file corresponds to a medical note. Each note has a date that needs to be extracted, but each date is encoded in one of many formats.\n",
    "\n",
    "The goal of this assignment is to correctly identify all of the different date variants encoded in this dataset and to properly normalize and sort the dates. \n",
    "\n",
    "Here is a list of some of the variants you might encounter in this dataset:\n",
    "* 04/20/2009; 04/20/09; 4/20/09; 4/3/09\n",
    "* Mar-20-2009; Mar 20, 2009; March 20, 2009;  Mar. 20, 2009; Mar 20 2009;\n",
    "* 20 Mar 2009; 20 March 2009; 20 Mar. 2009; 20 March, 2009\n",
    "* Mar 20th, 2009; Mar 21st, 2009; Mar 22nd, 2009\n",
    "* Feb 2009; Sep 2009; Oct 2010\n",
    "* 6/2008; 12/2009\n",
    "* 2009; 2010\n",
    "\n",
    "Once you have extracted these date patterns from the text, the next step is to sort them in ascending chronological order accoring to the following rules:\n",
    "* Assume all dates in xx/xx/xx format are mm/dd/yy\n",
    "* Assume all dates where year is encoded in only two digits are years from the 1900's (e.g. 1/5/89 is January 5th, 1989)\n",
    "* If the day is missing (e.g. 9/2009), assume it is the first day of the month (e.g. September 1, 2009).\n",
    "* If the month is missing (e.g. 2010), assume it is the first of January of that year (e.g. January 1, 2010).\n",
    "* Watch out for potential typos as this is a raw, real-life derived dataset.\n",
    "\n",
    "With these rules in mind, find the correct date in each note and return a pandas Series in chronological order of the original Series' indices. This Series should be sorted by a tie-break sort in the format of (\"extracted date\", \"original row number\").\n",
    "\n",
    "For example if the original series was this:\n",
    "\n",
    "    0    1999\n",
    "    1    2010\n",
    "    2    1978\n",
    "    3    2015\n",
    "    4    1985\n",
    "\n",
    "Your function should return this:\n",
    "\n",
    "    0    2\n",
    "    1    4\n",
    "    2    0\n",
    "    3    1\n",
    "    4    3\n",
    "\n",
    "Your score will be calculated using [Kendall's tau](https://en.wikipedia.org/wiki/Kendall_rank_correlation_coefficient), a correlation measure for ordinal data.\n",
    "\n",
    "*This function should return a Series of length 500 and dtype int.*"
   ]
  },
  {
   "cell_type": "code",
   "execution_count": 1,
   "metadata": {
    "deletable": false,
    "editable": false,
    "nbgrader": {
     "cell_type": "code",
     "checksum": "4b47ce38a503bfb1f113580f394d8667",
     "grade": false,
     "grade_id": "cell-28048f36edc32946",
     "locked": true,
     "schema_version": 3,
     "solution": false,
     "task": false
    }
   },
   "outputs": [
    {
     "data": {
      "text/plain": [
       "0         03/25/93 Total time of visit (in minutes):\\n\n",
       "1                       6/18/85 Primary Care Doctor:\\n\n",
       "2    sshe plans to move as of 7/8/71 In-Home Servic...\n",
       "3                7 on 9/27/75 Audit C Score Current:\\n\n",
       "4    2/6/96 sleep studyPain Treatment Pain Level (N...\n",
       "5                    .Per 7/06/79 Movement D/O note:\\n\n",
       "6    4, 5/18/78 Patient's thoughts about current su...\n",
       "7    10/24/89 CPT Code: 90801 - Psychiatric Diagnos...\n",
       "8                         3/7/86 SOS-10 Total Score:\\n\n",
       "9             (4/10/71)Score-1Audit C Score Current:\\n\n",
       "dtype: object"
      ]
     },
     "execution_count": 1,
     "metadata": {},
     "output_type": "execute_result"
    }
   ],
   "source": [
    "import pandas as pd\n",
    "\n",
    "doc = []\n",
    "with open('assets/dates.txt') as file:\n",
    "    for line in file:\n",
    "        doc.append(line)\n",
    "\n",
    "df = pd.Series(doc)\n",
    "df.head(10)"
   ]
  },
  {
   "cell_type": "code",
   "execution_count": 2,
   "metadata": {},
   "outputs": [
    {
     "data": {
      "text/plain": [
       "500"
      ]
     },
     "execution_count": 2,
     "metadata": {},
     "output_type": "execute_result"
    }
   ],
   "source": [
    "len(df)"
   ]
  },
  {
   "cell_type": "code",
   "execution_count": 14,
   "metadata": {
    "deletable": false,
    "nbgrader": {
     "cell_type": "code",
     "checksum": "3e58e227860ae4b02d6bdddd81506787",
     "grade": false,
     "grade_id": "cell-d6f35a51303ed6ff",
     "locked": false,
     "schema_version": 3,
     "solution": true,
     "task": false
    }
   },
   "outputs": [
    {
     "data": {
      "text/plain": [
       "0        9\n",
       "1       84\n",
       "2        2\n",
       "3       53\n",
       "4       28\n",
       "      ... \n",
       "495    427\n",
       "496    141\n",
       "497    186\n",
       "498    161\n",
       "499    413\n",
       "Length: 500, dtype: int64"
      ]
     },
     "execution_count": 14,
     "metadata": {},
     "output_type": "execute_result"
    }
   ],
   "source": [
    "import re\n",
    "from datetime import datetime, timezone\n",
    "\n",
    "\n",
    "#replace month name with numerical value\n",
    "def alph_to_digit(month):\n",
    "    month_cld = ''\n",
    "    if re.search(r'\\bJan\\w*',month,flags=re.I):\n",
    "        month_cld = re.search(r'\\bJan\\w*',month,flags=re.I).group()\n",
    "        return month.replace(month_cld,'1')\n",
    "    elif re.search(r'\\bfeb\\w*',month,flags=re.I):\n",
    "        month_cld = re.search(r'\\bfeb\\w*',month,flags=re.I).group()\n",
    "        return month.replace(month_cld,'2')\n",
    "    elif re.search(r'\\bmar\\w*',month,flags=re.I):\n",
    "        month_cld = re.search(r'\\bmar\\w*',month,flags=re.I).group()\n",
    "        return month.replace(month_cld,'3')\n",
    "    elif re.search(r'\\bapr\\w*',month,flags=re.I):\n",
    "        month_cld = re.search(r'\\bapr\\w*',month,flags=re.I).group()\n",
    "        return month.replace(month_cld,'4')\n",
    "    elif re.search(r'\\bmay\\w*',month,flags=re.I):\n",
    "        month_cld = re.search(r'\\bmay\\w*',month,flags=re.I).group()\n",
    "        return month.replace(month_cld,'5')\n",
    "    elif re.search(r'\\bjun\\w*',month,flags=re.I):\n",
    "        month_cld = re.search(r'\\bjun\\w*',month,flags=re.I).group()\n",
    "        return month.replace(month_cld,'6')\n",
    "    elif re.search(r'\\bjul\\w*',month,flags=re.I):\n",
    "        month_cld = re.search(r'\\bjul\\w*',month,flags=re.I).group()\n",
    "        return month.replace(month_cld,'7')\n",
    "    elif re.search(r'\\baug\\w*',month,flags=re.I):\n",
    "        month_cld = re.search(r'\\baug\\w*',month,flags=re.I).group()\n",
    "        return month.replace(month_cld,'8')\n",
    "    elif re.search(r'\\bsep\\w*',month,flags=re.I):\n",
    "        month_cld = re.search(r'\\bsep\\w*',month,flags=re.I).group()\n",
    "        return month.replace(month_cld,'9')\n",
    "    elif re.search(r'\\boct\\w*',month,flags=re.I):\n",
    "        month_cld = re.search(r'\\boct\\w*',month,flags=re.I).group()\n",
    "        return month.replace(month_cld,'10')\n",
    "    elif re.search(r'\\bnov\\w*',month,flags=re.I):\n",
    "        month_cld = re.search(r'\\bnov\\w*',month,flags=re.I).group()\n",
    "        return month.replace(month_cld,'11')\n",
    "    elif re.search(r'\\bdec\\w*',month,flags=re.I):\n",
    "        month_cld = re.search(r'\\bdec\\w*',month,flags=re.I).group()\n",
    "        return month.replace(month_cld,'12')\n",
    "    else:\n",
    "        return month\n",
    "    \n",
    "\n",
    "    \n",
    "def date_sorter():\n",
    "    data = pd.Series(doc)\n",
    "\n",
    "    data_df = pd.DataFrame(data, columns=['text'])\n",
    "    data_df['extracted date'] = ''\n",
    "\n",
    "    m = data_df.shape[0]\n",
    "    \n",
    "    \n",
    "    for m in range(m):\n",
    "        txt_m = data_df.loc[m,'text']\n",
    "        ##extract variations of date one seach for each variation of date format\n",
    "        # 04/20/2009; 04/20/09; 4/20/09; 4/3/09\n",
    "        if (re.search('\\d{1,2}[/-]\\d{1,2}[/-]\\d{4}', txt_m)) is not None:\n",
    "            ext = (re.search('\\d{1,2}[/-]\\d{1,2}[/-]\\d{4}', txt_m)).group()\n",
    "            ext = ext.replace('-', '/')\n",
    "            ext = datetime.strptime(ext, '%m/%d/%Y')\n",
    "            data_df.loc[m, 'extracted date'] = ext\n",
    "            continue\n",
    "\n",
    "        if (re.search('\\d{1,2}[/-]\\d{1,2}[/-]\\d{2}', txt_m)) is not None:\n",
    "            ext = (re.search('\\d{1,2}[/-]\\d{1,2}[/-]\\d{2}', txt_m)).group()\n",
    "            ext = ext.replace('-', '/')\n",
    "            ext = ext[:-2] + '19' + ext[-2:]\n",
    "            ext = datetime.strptime(ext, \"%m/%d/%Y\")\n",
    "            data_df.loc[m, 'extracted date'] = ext\n",
    "            continue\n",
    "\n",
    "        # Mar-20-2009; Mar 20, 2009; March 20, 2009; Mar. 20, 2009; Mar 20 2009;\n",
    "        if (re.search(r'(?:Jan|Feb|Mar|Apr|May|Jun|Jul|Aug|Sep|Oct|Nov|Dec)[a-zA-Z.,-]*[,\\s-](\\d{1,2})[,\\s-]+\\d{4}', txt_m))is not None:\n",
    "            ext = (re.search(r'(?:Jan|Feb|Mar|Apr|May|Jun|Jul|Aug|Sep|Oct|Nov|Dec)[a-zA-Z.,-]*[,\\s-](\\d{1,2})[,\\s-]+\\d{4}', txt_m)).group()\n",
    "            #convert to the right format\n",
    "            ext = ext.replace(' ', '/').replace(',', '').replace('.', '').replace('-', '/')\n",
    "            ext = alph_to_digit(ext)\n",
    "            ext = datetime.strptime(ext, \"%m/%d/%Y\")\n",
    "            data_df.loc[m, 'extracted date'] = ext\n",
    "            continue\n",
    "\n",
    "        # 20 Mar 2009; 20 March 2009; 20 Mar. 2009; 20 March, 2009\n",
    "        if (re.search(r'(\\d{1,2})[,\\s-](?:Jan|Feb|Mar|Apr|May|Jun|Jul|Aug|Sep|Oct|Nov|Dec)[a-zA-Z.,-]*[\\s]\\d{4}', txt_m)) is not None:\n",
    "            ext = (re.search(r'(\\d{1,2})[,\\s-](?:Jan|Feb|Mar|Apr|May|Jun|Jul|Aug|Sep|Oct|Nov|Dec)[a-zA-Z.,-]*[\\s]\\d{4}', txt_m)).group()\n",
    "            #correct the format\n",
    "            ext = ext.replace(' ', '/').replace(',', '').replace('.', '').replace('-', '/')\n",
    "            ext = alph_to_digit(ext)\n",
    "            ext = datetime.strptime(ext, \"%d/%m/%Y\")\n",
    "            data_df.loc[m, 'extracted date'] = ext\n",
    "            continue\n",
    "\n",
    "        #Mar 20th, 2009; Mar 21st, 2009; Mar 22nd, 2009\n",
    "        if (re.search(r'(?:Jan|Feb|Mar|Apr|May|Jun|Jul|Aug|Sep|Oct|Nov|Dec)[a-zA-Z.,-]*[,\\s-](\\d{1,2})\\w{2}[,\\s-]\\d{4}', txt_m))is not None:\n",
    "            ext = (re.search(r'(?:Jan|Feb|Mar|Apr|May|Jun|Jul|Aug|Sep|Oct|Nov|Dec)[a-zA-Z.,-]*[,\\s-](\\d{1,2})\\w{2}[,\\s-]\\d{4}', txt_m)).group()\n",
    "            #convert to the right format\n",
    "            ext = ext.replace(' ', '/').replace(',', '').replace('-', '/')\n",
    "            ext = alph_to_digit(ext)\n",
    "            ext = datetime.strptime(ext, \"%m/%d/%Y\")\n",
    "            data_df.loc[m, 'extracted date'] = ext\n",
    "            continue\n",
    "\n",
    "        #Feb 2009; Sep 2009; Oct 2010\n",
    "        if (re.search(r'(?:Jan|Feb|Mar|Apr|May|Jun|Jul|Aug|Sep|Oct|Nov|Dec)[a-zA-Z.,-]*[,\\s-]+\\d{4}', txt_m))is not None:\n",
    "            ext = (re.search(r'(?:Jan|Feb|Mar|Apr|May|Jun|Jul|Aug|Sep|Oct|Nov|Dec)[a-zA-Z.,-]*[,\\s-]+\\d{4}', txt_m)).group()\n",
    "            #convert to the right format\n",
    "            ext = ext.replace(' ', '/').replace(',', '').replace('.', '').replace('-', '/')\n",
    "            ext = alph_to_digit(ext)\n",
    "            ext = datetime.strptime(ext, \"%m/%Y\")\n",
    "            data_df.loc[m, 'extracted date'] = ext\n",
    "            continue\n",
    "\n",
    "\n",
    "        # 6/2008; 12/2009\n",
    "        if (re.search(r'\\d{1,2}[/]\\d{4}', txt_m)) is not None:\n",
    "            ext = (re.search(r'\\d{1,2}[/-]\\d{4}', txt_m)).group()\n",
    "            #add day - convert to the right format - and add it to the df\n",
    "            ext = datetime.strptime(ext, \"%m/%Y\")\n",
    "            data_df.loc[m, 'extracted date'] = ext\n",
    "            continue\n",
    "\n",
    "        # 2009; 2010\n",
    "        if (re.search(r'\\d{4}', txt_m)) is not None:\n",
    "            ext = (re.search(r'\\d{4}', txt_m)).group()\n",
    "            #add day - convert to the right format - and add it to the df\n",
    "            ext = datetime.strptime(ext, \"%Y\")\n",
    "            data_df.loc[m, 'extracted date'] = ext\n",
    "\n",
    "        \n",
    "    data_df.reset_index(inplace = True)\n",
    "    data_df.rename(columns = {\"index\" : \"original row number\"}, inplace= True)\n",
    "\n",
    "\n",
    "    data_df = data_df.sort_values(by=['extracted date', 'original row number'])\n",
    "\n",
    "    sorted_idx = data_df.index.values.tolist()\n",
    "\n",
    "\n",
    "    new_series = pd.Series(sorted_idx)\n",
    "\n",
    "    return (new_series)\n",
    "\n",
    "\n",
    "\n",
    "date_sorter()"
   ]
  },
  {
   "cell_type": "code",
   "execution_count": null,
   "metadata": {
    "deletable": false,
    "editable": false,
    "nbgrader": {
     "cell_type": "code",
     "checksum": "c0843c1f0ad2aaa45fa9ac4012f1aa43",
     "grade": true,
     "grade_id": "cell-373f878879c00996",
     "locked": true,
     "points": 4,
     "schema_version": 3,
     "solution": false,
     "task": false
    }
   },
   "outputs": [],
   "source": []
  },
  {
   "cell_type": "code",
   "execution_count": null,
   "metadata": {},
   "outputs": [],
   "source": []
  },
  {
   "cell_type": "code",
   "execution_count": null,
   "metadata": {
    "deletable": false,
    "editable": false,
    "nbgrader": {
     "cell_type": "code",
     "checksum": "0e2f5bb6bab79c07a81ec366c46c4d49",
     "grade": true,
     "grade_id": "cell-0ebae76e6cd794be",
     "locked": true,
     "points": 1,
     "schema_version": 3,
     "solution": false,
     "task": false
    }
   },
   "outputs": [],
   "source": []
  }
 ],
 "metadata": {
  "coursera": {
   "course_slug": "python-text-mining",
   "graded_item_id": "LvcWI",
   "launcher_item_id": "krne9",
   "part_id": "Mkp1I"
  },
  "kernelspec": {
   "display_name": "Python 3 (ipykernel)",
   "language": "python",
   "name": "python3"
  },
  "language_info": {
   "codemirror_mode": {
    "name": "ipython",
    "version": 3
   },
   "file_extension": ".py",
   "mimetype": "text/x-python",
   "name": "python",
   "nbconvert_exporter": "python",
   "pygments_lexer": "ipython3",
   "version": "3.9.13"
  },
  "vscode": {
   "interpreter": {
    "hash": "aee8b7b246df8f9039afb4144a1f6fd8d2ca17a180786b69acc140d282b71a49"
   }
  }
 },
 "nbformat": 4,
 "nbformat_minor": 4
}
